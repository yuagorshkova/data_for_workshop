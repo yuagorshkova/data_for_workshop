{
  "cells": [
    {
      "cell_type": "code",
      "execution_count": 3,
      "metadata": {
        "id": "Y_hOKPGRQjv1"
      },
      "outputs": [],
      "source": [
        "from mask_exp import MaskExperiment\n",
        "import numpy as np\n",
        "import pandas as pd"
      ]
    },
    {
      "cell_type": "code",
      "execution_count": null,
      "metadata": {
        "id": "O2Kk7DotQlG2"
      },
      "outputs": [],
      "source": [
        "available_models = [\n",
        "                        \"sberbank-ai/ruRoberta-large\", \n",
        "                        \"google/mt5-small\", \n",
        "                        \"cointegrated/rubert-tiny2\", \n",
        "                        \"DeepPavlov/rubert-base-cased\", \n",
        "                        \"sberbank-ai/ruBert-large\"\n",
        "                        ]\n",
        "results = []\n",
        "\n",
        "for model in available_models:\n",
        "    mask_exp = MaskExperiment(model, \"../semantic_roles_data.csv\", \"cuda:0\")\n",
        "    result = mask_exp.run_experiment()\n",
        "    df = pd.DataFrame(np.concatenate((result[\"by role\"].values, result[\"average\"]), axis=None).reshape(1, -1), columns=list(result[\"by role\"].index) + [\"average\"])\n",
        "    df[\"model\"] = mask_exp.model_name\n",
        "    results.append(df)"
      ]
    },
    {
      "cell_type": "code",
      "execution_count": 9,
      "metadata": {
        "id": "oa20U9PAQrpD"
      },
      "outputs": [],
      "source": [
        "results_df = pd.concat(results)"
      ]
    },
    {
      "cell_type": "code",
      "execution_count": 12,
      "metadata": {
        "colab": {
          "base_uri": "https://localhost:8080/",
          "height": 267
        },
        "id": "2cpITD-z2yEk",
        "outputId": "b0440157-6cbe-4db7-87ec-f12db3d5f3db"
      },
      "outputs": [
        {
          "data": {
            "text/html": [
              "\n",
              "  <div id=\"df-7645be0c-0ab2-4bf4-a663-606e8d1ebc26\">\n",
              "    <div class=\"colab-df-container\">\n",
              "      <div>\n",
              "<style scoped>\n",
              "    .dataframe tbody tr th:only-of-type {\n",
              "        vertical-align: middle;\n",
              "    }\n",
              "\n",
              "    .dataframe tbody tr th {\n",
              "        vertical-align: top;\n",
              "    }\n",
              "\n",
              "    .dataframe thead th {\n",
              "        text-align: right;\n",
              "    }\n",
              "</style>\n",
              "<table border=\"1\" class=\"dataframe\">\n",
              "  <thead>\n",
              "    <tr style=\"text-align: right;\">\n",
              "      <th></th>\n",
              "      <th>addressee</th>\n",
              "      <th>agent</th>\n",
              "      <th>benefactive</th>\n",
              "      <th>causator</th>\n",
              "      <th>experiencer</th>\n",
              "      <th>goal</th>\n",
              "      <th>patient</th>\n",
              "      <th>place</th>\n",
              "      <th>posessor</th>\n",
              "      <th>theme</th>\n",
              "      <th>time</th>\n",
              "      <th>average</th>\n",
              "      <th>model</th>\n",
              "    </tr>\n",
              "  </thead>\n",
              "  <tbody>\n",
              "    <tr>\n",
              "      <th>0</th>\n",
              "      <td>0.565675</td>\n",
              "      <td>0.684308</td>\n",
              "      <td>0.600358</td>\n",
              "      <td>0.624638</td>\n",
              "      <td>0.602357</td>\n",
              "      <td>0.740812</td>\n",
              "      <td>0.585522</td>\n",
              "      <td>0.640497</td>\n",
              "      <td>0.560788</td>\n",
              "      <td>0.611932</td>\n",
              "      <td>0.695952</td>\n",
              "      <td>0.639408</td>\n",
              "      <td>sberbank-ai/ruRoberta-large</td>\n",
              "    </tr>\n",
              "    <tr>\n",
              "      <th>1</th>\n",
              "      <td>0.462986</td>\n",
              "      <td>0.581569</td>\n",
              "      <td>0.583333</td>\n",
              "      <td>0.551430</td>\n",
              "      <td>0.545817</td>\n",
              "      <td>0.699679</td>\n",
              "      <td>0.473884</td>\n",
              "      <td>0.649958</td>\n",
              "      <td>0.434661</td>\n",
              "      <td>0.547687</td>\n",
              "      <td>0.638730</td>\n",
              "      <td>0.547118</td>\n",
              "      <td>cointegrated/rubert-tiny2</td>\n",
              "    </tr>\n",
              "    <tr>\n",
              "      <th>2</th>\n",
              "      <td>0.633333</td>\n",
              "      <td>0.724984</td>\n",
              "      <td>0.652688</td>\n",
              "      <td>0.677209</td>\n",
              "      <td>0.649751</td>\n",
              "      <td>0.824359</td>\n",
              "      <td>0.623307</td>\n",
              "      <td>0.685965</td>\n",
              "      <td>0.624993</td>\n",
              "      <td>0.647980</td>\n",
              "      <td>0.742812</td>\n",
              "      <td>0.683616</td>\n",
              "      <td>DeepPavlov/rubert-base-cased</td>\n",
              "    </tr>\n",
              "    <tr>\n",
              "      <th>3</th>\n",
              "      <td>0.669253</td>\n",
              "      <td>0.663950</td>\n",
              "      <td>0.670968</td>\n",
              "      <td>0.673233</td>\n",
              "      <td>0.604379</td>\n",
              "      <td>0.807692</td>\n",
              "      <td>0.623147</td>\n",
              "      <td>0.679313</td>\n",
              "      <td>0.516667</td>\n",
              "      <td>0.646338</td>\n",
              "      <td>0.644762</td>\n",
              "      <td>0.650808</td>\n",
              "      <td>sberbank-ai/ruBert-large</td>\n",
              "    </tr>\n",
              "    <tr>\n",
              "      <th>0</th>\n",
              "      <td>0.538926</td>\n",
              "      <td>0.676314</td>\n",
              "      <td>0.596990</td>\n",
              "      <td>0.616655</td>\n",
              "      <td>0.704057</td>\n",
              "      <td>0.728602</td>\n",
              "      <td>0.528964</td>\n",
              "      <td>0.607258</td>\n",
              "      <td>0.503960</td>\n",
              "      <td>0.585521</td>\n",
              "      <td>0.681598</td>\n",
              "      <td>0.621992</td>\n",
              "      <td>google/mt5-small</td>\n",
              "    </tr>\n",
              "  </tbody>\n",
              "</table>\n",
              "</div>\n",
              "      <button class=\"colab-df-convert\" onclick=\"convertToInteractive('df-7645be0c-0ab2-4bf4-a663-606e8d1ebc26')\"\n",
              "              title=\"Convert this dataframe to an interactive table.\"\n",
              "              style=\"display:none;\">\n",
              "        \n",
              "  <svg xmlns=\"http://www.w3.org/2000/svg\" height=\"24px\"viewBox=\"0 0 24 24\"\n",
              "       width=\"24px\">\n",
              "    <path d=\"M0 0h24v24H0V0z\" fill=\"none\"/>\n",
              "    <path d=\"M18.56 5.44l.94 2.06.94-2.06 2.06-.94-2.06-.94-.94-2.06-.94 2.06-2.06.94zm-11 1L8.5 8.5l.94-2.06 2.06-.94-2.06-.94L8.5 2.5l-.94 2.06-2.06.94zm10 10l.94 2.06.94-2.06 2.06-.94-2.06-.94-.94-2.06-.94 2.06-2.06.94z\"/><path d=\"M17.41 7.96l-1.37-1.37c-.4-.4-.92-.59-1.43-.59-.52 0-1.04.2-1.43.59L10.3 9.45l-7.72 7.72c-.78.78-.78 2.05 0 2.83L4 21.41c.39.39.9.59 1.41.59.51 0 1.02-.2 1.41-.59l7.78-7.78 2.81-2.81c.8-.78.8-2.07 0-2.86zM5.41 20L4 18.59l7.72-7.72 1.47 1.35L5.41 20z\"/>\n",
              "  </svg>\n",
              "      </button>\n",
              "      \n",
              "  <style>\n",
              "    .colab-df-container {\n",
              "      display:flex;\n",
              "      flex-wrap:wrap;\n",
              "      gap: 12px;\n",
              "    }\n",
              "\n",
              "    .colab-df-convert {\n",
              "      background-color: #E8F0FE;\n",
              "      border: none;\n",
              "      border-radius: 50%;\n",
              "      cursor: pointer;\n",
              "      display: none;\n",
              "      fill: #1967D2;\n",
              "      height: 32px;\n",
              "      padding: 0 0 0 0;\n",
              "      width: 32px;\n",
              "    }\n",
              "\n",
              "    .colab-df-convert:hover {\n",
              "      background-color: #E2EBFA;\n",
              "      box-shadow: 0px 1px 2px rgba(60, 64, 67, 0.3), 0px 1px 3px 1px rgba(60, 64, 67, 0.15);\n",
              "      fill: #174EA6;\n",
              "    }\n",
              "\n",
              "    [theme=dark] .colab-df-convert {\n",
              "      background-color: #3B4455;\n",
              "      fill: #D2E3FC;\n",
              "    }\n",
              "\n",
              "    [theme=dark] .colab-df-convert:hover {\n",
              "      background-color: #434B5C;\n",
              "      box-shadow: 0px 1px 3px 1px rgba(0, 0, 0, 0.15);\n",
              "      filter: drop-shadow(0px 1px 2px rgba(0, 0, 0, 0.3));\n",
              "      fill: #FFFFFF;\n",
              "    }\n",
              "  </style>\n",
              "\n",
              "      <script>\n",
              "        const buttonEl =\n",
              "          document.querySelector('#df-7645be0c-0ab2-4bf4-a663-606e8d1ebc26 button.colab-df-convert');\n",
              "        buttonEl.style.display =\n",
              "          google.colab.kernel.accessAllowed ? 'block' : 'none';\n",
              "\n",
              "        async function convertToInteractive(key) {\n",
              "          const element = document.querySelector('#df-7645be0c-0ab2-4bf4-a663-606e8d1ebc26');\n",
              "          const dataTable =\n",
              "            await google.colab.kernel.invokeFunction('convertToInteractive',\n",
              "                                                     [key], {});\n",
              "          if (!dataTable) return;\n",
              "\n",
              "          const docLinkHtml = 'Like what you see? Visit the ' +\n",
              "            '<a target=\"_blank\" href=https://colab.research.google.com/notebooks/data_table.ipynb>data table notebook</a>'\n",
              "            + ' to learn more about interactive tables.';\n",
              "          element.innerHTML = '';\n",
              "          dataTable['output_type'] = 'display_data';\n",
              "          await google.colab.output.renderOutput(dataTable, element);\n",
              "          const docLink = document.createElement('div');\n",
              "          docLink.innerHTML = docLinkHtml;\n",
              "          element.appendChild(docLink);\n",
              "        }\n",
              "      </script>\n",
              "    </div>\n",
              "  </div>\n",
              "  "
            ],
            "text/plain": [
              "   addressee     agent  benefactive  causator  experiencer      goal  \\\n",
              "0   0.565675  0.684308     0.600358  0.624638     0.602357  0.740812   \n",
              "1   0.462986  0.581569     0.583333  0.551430     0.545817  0.699679   \n",
              "2   0.633333  0.724984     0.652688  0.677209     0.649751  0.824359   \n",
              "3   0.669253  0.663950     0.670968  0.673233     0.604379  0.807692   \n",
              "0   0.538926  0.676314     0.596990  0.616655     0.704057  0.728602   \n",
              "\n",
              "    patient     place  posessor     theme      time   average  \\\n",
              "0  0.585522  0.640497  0.560788  0.611932  0.695952  0.639408   \n",
              "1  0.473884  0.649958  0.434661  0.547687  0.638730  0.547118   \n",
              "2  0.623307  0.685965  0.624993  0.647980  0.742812  0.683616   \n",
              "3  0.623147  0.679313  0.516667  0.646338  0.644762  0.650808   \n",
              "0  0.528964  0.607258  0.503960  0.585521  0.681598  0.621992   \n",
              "\n",
              "                          model  \n",
              "0   sberbank-ai/ruRoberta-large  \n",
              "1     cointegrated/rubert-tiny2  \n",
              "2  DeepPavlov/rubert-base-cased  \n",
              "3      sberbank-ai/ruBert-large  \n",
              "0              google/mt5-small  "
            ]
          },
          "execution_count": 12,
          "metadata": {},
          "output_type": "execute_result"
        }
      ],
      "source": [
        "results_df"
      ]
    },
    {
      "cell_type": "code",
      "execution_count": 11,
      "metadata": {
        "colab": {
          "base_uri": "https://localhost:8080/"
        },
        "id": "qHKx-uTc140C",
        "outputId": "b75148fe-9fc8-4914-f0c4-f29c92708c80"
      },
      "outputs": [
        {
          "name": "stderr",
          "output_type": "stream",
          "text": [
            "/usr/local/lib/python3.7/dist-packages/ipykernel_launcher.py:1: FutureWarning: Dropping of nuisance columns in DataFrame reductions (with 'numeric_only=None') is deprecated; in a future version this will raise TypeError.  Select only valid columns before calling the reduction.\n",
            "  \"\"\"Entry point for launching an IPython kernel.\n"
          ]
        },
        {
          "data": {
            "text/plain": [
              "addressee      0.574035\n",
              "agent          0.666225\n",
              "benefactive    0.620868\n",
              "causator       0.628633\n",
              "experiencer    0.621272\n",
              "goal           0.760229\n",
              "patient        0.566965\n",
              "place          0.652598\n",
              "posessor       0.528214\n",
              "theme          0.607892\n",
              "time           0.680771\n",
              "average        0.628588\n",
              "dtype: float64"
            ]
          },
          "execution_count": 11,
          "metadata": {},
          "output_type": "execute_result"
        }
      ],
      "source": [
        "results_df.mean()"
      ]
    },
    {
      "cell_type": "code",
      "execution_count": null,
      "metadata": {
        "id": "tYe05iLK159f"
      },
      "outputs": [],
      "source": []
    }
  ],
  "metadata": {
    "accelerator": "GPU",
    "colab": {
      "provenance": []
    },
    "gpuClass": "standard",
    "kernelspec": {
      "display_name": "Python 3",
      "name": "python3"
    },
    "language_info": {
      "name": "python"
    }
  },
  "nbformat": 4,
  "nbformat_minor": 0
}
